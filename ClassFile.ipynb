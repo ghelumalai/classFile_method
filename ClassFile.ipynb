{
 "cells": [
  {
   "cell_type": "code",
   "execution_count": 2,
   "id": "6c5c6cb7",
   "metadata": {},
   "outputs": [],
   "source": [
    "from classmultifunctionFile import multiFunction"
   ]
  },
  {
   "cell_type": "code",
   "execution_count": 3,
   "id": "e15ee6a9",
   "metadata": {},
   "outputs": [
    {
     "name": "stdout",
     "output_type": "stream",
     "text": [
      "Sub-fields in AI are: \n",
      "Machine Learning\n",
      "Neural Networks\n",
      "Vision\n",
      "Robotics\n",
      "Speech Processing\n",
      "Natural Language Processing\n"
     ]
    }
   ],
   "source": [
    "aiTools=multiFunction.SubfieldsInAI()"
   ]
  },
  {
   "cell_type": "code",
   "execution_count": 4,
   "id": "dc8855b6",
   "metadata": {},
   "outputs": [
    {
     "name": "stdout",
     "output_type": "stream",
     "text": [
      "Enter a Number: 52452\n",
      "52452 is Even Number\n"
     ]
    }
   ],
   "source": [
    "oddEven=multiFunction.odd_Even()"
   ]
  },
  {
   "cell_type": "code",
   "execution_count": 5,
   "id": "d67d7d2a",
   "metadata": {},
   "outputs": [
    {
     "name": "stdout",
     "output_type": "stream",
     "text": [
      "Your Gender: Male\n",
      "Your Age: 20\n",
      "Not Eligible\n"
     ]
    }
   ],
   "source": [
    "marriage=multiFunction.marriageEligibility1()"
   ]
  },
  {
   "cell_type": "code",
   "execution_count": 6,
   "id": "40ed3af8",
   "metadata": {},
   "outputs": [
    {
     "name": "stdout",
     "output_type": "stream",
     "text": [
      "Subject1= 98\n",
      "Subject2= 87\n",
      "Subject3= 95\n",
      "Subject4= 95\n",
      "Subject5= 93\n",
      "Total :  468\n",
      "Percentage :  93.60000000000001\n"
     ]
    }
   ],
   "source": [
    "mark=multiFunction.mark_per()"
   ]
  },
  {
   "cell_type": "code",
   "execution_count": 7,
   "id": "3a749820",
   "metadata": {},
   "outputs": [
    {
     "name": "stdout",
     "output_type": "stream",
     "text": [
      "Height1: 32\n",
      "Height2: 25\n",
      "Breadth: 34\n",
      "Area of Triangle:  544.0\n",
      "Perimeter of Triangle:  91.0\n"
     ]
    }
   ],
   "source": [
    "tArea=multiFunction.triangleAB()"
   ]
  },
  {
   "cell_type": "code",
   "execution_count": null,
   "id": "c22f7bcd",
   "metadata": {},
   "outputs": [],
   "source": []
  }
 ],
 "metadata": {
  "kernelspec": {
   "display_name": "Python 3 (ipykernel)",
   "language": "python",
   "name": "python3"
  },
  "language_info": {
   "codemirror_mode": {
    "name": "ipython",
    "version": 3
   },
   "file_extension": ".py",
   "mimetype": "text/x-python",
   "name": "python",
   "nbconvert_exporter": "python",
   "pygments_lexer": "ipython3",
   "version": "3.11.5"
  }
 },
 "nbformat": 4,
 "nbformat_minor": 5
}
